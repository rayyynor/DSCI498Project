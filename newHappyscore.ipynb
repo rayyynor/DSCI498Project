{
 "cells": [
  {
   "cell_type": "code",
   "execution_count": 1,
   "metadata": {},
   "outputs": [
    {
     "name": "stderr",
     "output_type": "stream",
     "text": [
      "/Users/sishengliang/opt/anaconda3/envs/happiness-env/lib/python3.9/site-packages/tqdm/auto.py:21: TqdmWarning: IProgress not found. Please update jupyter and ipywidgets. See https://ipywidgets.readthedocs.io/en/stable/user_install.html\n",
      "  from .autonotebook import tqdm as notebook_tqdm\n"
     ]
    }
   ],
   "source": [
    "##Library\n",
    "import pandas as pd\n",
    "import numpy as np\n",
    "import cv2\n",
    "import torch\n",
    "from torchvision import transforms\n",
    "from torch.utils.data import Dataset, DataLoader\n",
    "from facenet_pytorch import MTCNN\n",
    "import matplotlib.pyplot as plt"
   ]
  },
  {
   "cell_type": "code",
   "execution_count": null,
   "metadata": {},
   "outputs": [],
   "source": [
    "##Data Prepare\n",
    "# Load FER+ dataset\n",
    "df = pd.read_csv(\"data/fer2013.csv\")"
   ]
  },
  {
   "cell_type": "code",
   "execution_count": null,
   "metadata": {},
   "outputs": [],
   "source": [
    "# Emotion to happiness score mapping\n",
    "emotion_map = {\n",
    "    \"happy\": 9,\n",
    "    \"neutral\": 6,\n",
    "    \"surprise\": 7,\n",
    "    \"angry\": 2,\n",
    "    \"sad\": 2,\n",
    "    \"fear\": 3,\n",
    "    \"disgust\": 1,\n",
    "}"
   ]
  },
  {
   "cell_type": "code",
   "execution_count": null,
   "metadata": {},
   "outputs": [],
   "source": [
    "# Convert categorical emotions to numerical scores\n",
    "df['happiness_score'] = df['emotion'].map(emotion_map)\n",
    "\n",
    "# Convert pixel strings to numpy arrays\n",
    "def process_pixels(pixel_string):\n",
    "    pixels = np.array(pixel_string.split(), dtype=np.uint8).reshape(48, 48)\n",
    "    return cv2.resize(pixels, (224, 224))  # Resize for deep learning models\n",
    "\n",
    "df['pixels'] = df['pixels'].apply(process_pixels)\n"
   ]
  },
  {
   "cell_type": "code",
   "execution_count": null,
   "metadata": {},
   "outputs": [],
   "source": [
    "# Save cleaned data\n",
    "df.to_pickle(\"data/fer_cleaned.pkl\")\n",
    "\n",
    "#### Why? •\tConverts FER+ emotions into happiness scores.\n",
    "####\t  •\tResizes images to 224x224 for CNN models."
   ]
  },
  {
   "cell_type": "code",
   "execution_count": null,
   "metadata": {},
   "outputs": [],
   "source": [
    "class HappinessDataset(Dataset):\n",
    "    def __init__(self, pickle_file, transform=None):\n",
    "        self.data = pd.read_pickle(pickle_file)\n",
    "        self.transform = transform\n",
    "\n",
    "    def __len__(self):\n",
    "        return len(self.data)\n",
    "\n",
    "    def __getitem__(self, idx):\n",
    "        img_array = self.data.iloc[idx][\"pixels\"]\n",
    "        img = cv2.cvtColor(img_array, cv2.COLOR_GRAY2RGB)  # Convert to 3-channel\n",
    "\n",
    "        if self.transform:\n",
    "            img = self.transform(img)\n",
    "\n",
    "        score = torch.tensor(self.data.iloc[idx][\"happiness_score\"], dtype=torch.float)\n",
    "        return img, score\n",
    "\n",
    "# Define transforms for data augmentation\n",
    "transform = transforms.Compose([\n",
    "    transforms.ToPILImage(),\n",
    "    transforms.RandomHorizontalFlip(),\n",
    "    transforms.ColorJitter(brightness=0.2),\n",
    "    transforms.ToTensor(),\n",
    "    transforms.Normalize([0.5], [0.5])\n",
    "])\n",
    "\n",
    "# Load dataset\n",
    "dataset = HappinessDataset(\"data/fer_cleaned.pkl\", transform=transform)\n",
    "dataloader = DataLoader(dataset, batch_size=32, shuffle=True)\n",
    "\n",
    "# Test data loading\n",
    "sample_img, sample_score = dataset[0]\n",
    "plt.imshow(sample_img.permute(1, 2, 0))  # Convert tensor to image\n",
    "plt.title(f\"Happiness Score: {sample_score.item()}\")\n",
    "plt.show()"
   ]
  },
  {
   "cell_type": "code",
   "execution_count": null,
   "metadata": {},
   "outputs": [],
   "source": [
    "###Training the Happiness Score Model\n",
    "import torch.nn as nn\n",
    "import torch.optim as optim\n",
    "import torchvision.models as models\n",
    "\n",
    "# Define model (ResNet50 pretrained)\n",
    "class HappinessModel(nn.Module):\n",
    "    def __init__(self):\n",
    "        super(HappinessModel, self).__init__()\n",
    "        self.model = models.resnet50(pretrained=True)\n",
    "        self.model.fc = nn.Linear(2048, 1)  # Regression output\n",
    "\n",
    "    def forward(self, x):\n",
    "        return self.model(x)\n",
    "\n",
    "# Training setup\n",
    "device = torch.device(\"cuda\" if torch.cuda.is_available() else \"cpu\")\n",
    "model = HappinessModel().to(device)\n",
    "\n",
    "criterion = nn.MSELoss()  # Regression loss\n",
    "optimizer = optim.Adam(model.parameters(), lr=0.001)\n",
    "\n",
    "# Training loop\n",
    "for epoch in range(10):\n",
    "    for images, scores in dataloader:\n",
    "        images, scores = images.to(device), scores.to(device)\n",
    "\n",
    "        optimizer.zero_grad()\n",
    "        outputs = model(images).squeeze()\n",
    "        loss = criterion(outputs, scores)\n",
    "        loss.backward()\n",
    "        optimizer.step()\n",
    "\n",
    "    print(f\"Epoch {epoch+1}, Loss: {loss.item()}\")\n",
    "    \n",
    "# Save model\n",
    "torch.save(model.state_dict(), \"happiness_model.pth\")\n",
    "\n",
    "###\t•\tUses ResNet50 for feature extraction.\n",
    "### •\tPredicts continuous happiness scores (1-10).\n",
    "### •\tUses MSELoss for regression."
   ]
  },
  {
   "cell_type": "code",
   "execution_count": null,
   "metadata": {},
   "outputs": [],
   "source": []
  }
 ],
 "metadata": {
  "kernelspec": {
   "display_name": "happiness-env",
   "language": "python",
   "name": "python3"
  },
  "language_info": {
   "codemirror_mode": {
    "name": "ipython",
    "version": 3
   },
   "file_extension": ".py",
   "mimetype": "text/x-python",
   "name": "python",
   "nbconvert_exporter": "python",
   "pygments_lexer": "ipython3",
   "version": "3.9.21"
  }
 },
 "nbformat": 4,
 "nbformat_minor": 2
}
